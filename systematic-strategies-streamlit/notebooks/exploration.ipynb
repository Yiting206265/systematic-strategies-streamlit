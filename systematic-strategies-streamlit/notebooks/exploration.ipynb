{
 "cells": [
  {
   "cell_type": "markdown",
   "metadata": {},
   "source": [
    "# Exploration Notebook\n",
    "\n",
    "This notebook demonstrates how to use the systematic trading strategies package."
   ]
  },
  {
   "cell_type": "code",
   "execution_count": 1,
   "metadata": {},
   "outputs": [],
   "source": [
    "import pandas as pd\n",
    "import matplotlib.pyplot as plt\n",
    "from src import data_loader, backtest, arbitrage, risk_metrics"
   ]
  },
  {
   "cell_type": "markdown",
   "metadata": {},
   "source": [
    "## Load Equity Data (AAPL from Yahoo Finance)"
   ]
  },
  {
   "cell_type": "code",
   "execution_count": 2,
   "metadata": {},
   "outputs": [],
   "source": [
    "df = data_loader.load_equities('AAPL', start='2024-01-01', end='2024-12-31')\n",
    "df.head()"
   ]
  },
  {
   "cell_type": "markdown",
   "metadata": {},
   "source": [
    "## Run Mean Reversion Strategy"
   ]
  },
  {
   "cell_type": "code",
   "execution_count": 3,
   "metadata": {},
   "outputs": [],
   "source": [
    "res = backtest.mean_reversion_strategy(df.copy(), lookback=10)\n",
    "equity_curve = (1 + res['strategy_returns']).cumprod()\n",
    "plt.figure(figsize=(10,5))\n",
    "plt.plot(equity_curve)\n",
    "plt.title('Mean Reversion Equity Curve')\n",
    "plt.show()"
   ]
  },
  {
   "cell_type": "markdown",
   "metadata": {},
   "source": [
    "## Risk Metrics"
   ]
  },
  {
   "cell_type": "code",
   "execution_count": 4,
   "metadata": {},
   "outputs": [],
   "source": [
    "returns = res['strategy_returns'].dropna()\n",
    "{\n",
    "    'Sharpe': risk_metrics.sharpe_ratio(returns),\n",
    "    'Sortino': risk_metrics.sortino_ratio(returns),\n",
    "    'MaxDD': risk_metrics.max_drawdown(equity_curve),\n",
    "    'VaR': risk_metrics.value_at_risk(returns),\n",
    "    'CVaR': risk_metrics.conditional_var(returns)\n",
    "}"
   ]
  },
  {
   "cell_type": "markdown",
   "metadata": {},
   "source": [
    "## Try Risk Arbitrage Strategy"
   ]
  },
  {
   "cell_type": "code",
   "execution_count": 5,
   "metadata": {},
   "outputs": [],
   "source": [
    "arb_res = arbitrage.risk_arbitrage_signal(df.copy())\n",
    "arb_equity = (1 + arb_res['strategy_returns']).cumprod()\n",
    "plt.figure(figsize=(10,5))\n",
    "plt.plot(arb_equity)\n",
    "plt.title('Risk Arbitrage Equity Curve')\n",
    "plt.show()"
   ]
  }
 ],
 "metadata": {
  "kernelspec": {
   "display_name": "Python 3",
   "language": "python",
   "name": "python3"
  },
  "language_info": {
   "name": "python",
   "version": "3.11"
  }
 },
 "nbformat": 4,
 "nbformat_minor": 5
}
